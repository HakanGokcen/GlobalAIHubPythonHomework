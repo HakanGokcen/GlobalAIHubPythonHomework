{
 "cells": [
  {
   "cell_type": "code",
   "execution_count": 1,
   "metadata": {},
   "outputs": [],
   "source": [
    "#Global AI Hub - Introduction to Python\n",
    "#Project"
   ]
  },
  {
   "cell_type": "code",
   "execution_count": 2,
   "metadata": {},
   "outputs": [
    {
     "name": "stdin",
     "output_type": "stream",
     "text": [
      "Please enter your name:  a\n",
      "Please enter your surname:  b\n"
     ]
    },
    {
     "name": "stdout",
     "output_type": "stream",
     "text": [
      "\n",
      "\n"
     ]
    },
    {
     "name": "stdin",
     "output_type": "stream",
     "text": [
      "Please enter your name:  hakan\n",
      "Please enter your surname:  gokcen\n"
     ]
    },
    {
     "name": "stdout",
     "output_type": "stream",
     "text": [
      "\n",
      "\n",
      "Welcome...\n",
      "\n",
      "----->  The names must be entered in lower case  <-----\n",
      "\n",
      "Enter 5 lesson name: \n"
     ]
    },
    {
     "name": "stdin",
     "output_type": "stream",
     "text": [
      "1.Course c++\n",
      "2.Course java\n",
      "3.Course python\n",
      "4.Course html\n",
      "5.Course android\n"
     ]
    },
    {
     "name": "stdout",
     "output_type": "stream",
     "text": [
      "Lessons: ['c++', 'java', 'python', 'html', 'android']\n",
      "\n",
      "Courses you want to take : (Press 'q' for save)\n",
      "----->  Remember that you must be entered min 3 - max 5 courses   <-----\n",
      "\n"
     ]
    },
    {
     "name": "stdin",
     "output_type": "stream",
     "text": [
      "Lesson Name:  javascript\n"
     ]
    },
    {
     "name": "stdout",
     "output_type": "stream",
     "text": [
      "You entered wrong name!\n",
      "All registered courses: [], (Press 'q' for save)\n",
      "\n"
     ]
    },
    {
     "name": "stdin",
     "output_type": "stream",
     "text": [
      "Lesson Name:  c++\n"
     ]
    },
    {
     "name": "stdout",
     "output_type": "stream",
     "text": [
      "All registered courses: ['c++'], (Press 'q' for save)\n",
      "\n"
     ]
    },
    {
     "name": "stdin",
     "output_type": "stream",
     "text": [
      "Lesson Name:  java\n"
     ]
    },
    {
     "name": "stdout",
     "output_type": "stream",
     "text": [
      "All registered courses: ['c++', 'java'], (Press 'q' for save)\n",
      "\n"
     ]
    },
    {
     "name": "stdin",
     "output_type": "stream",
     "text": [
      "Lesson Name:  python\n"
     ]
    },
    {
     "name": "stdout",
     "output_type": "stream",
     "text": [
      "All registered courses: ['c++', 'java', 'python'], (Press 'q' for save)\n",
      "\n"
     ]
    },
    {
     "name": "stdin",
     "output_type": "stream",
     "text": [
      "Lesson Name:  android\n"
     ]
    },
    {
     "name": "stdout",
     "output_type": "stream",
     "text": [
      "All registered courses: ['c++', 'java', 'python', 'android'], (Press 'q' for save)\n",
      "\n"
     ]
    },
    {
     "name": "stdin",
     "output_type": "stream",
     "text": [
      "Lesson Name:  q\n"
     ]
    },
    {
     "name": "stdout",
     "output_type": "stream",
     "text": [
      "All registered courses: ['c++', 'java', 'python', 'android'], (Press 'q' for save)\n",
      "\n"
     ]
    },
    {
     "name": "stdin",
     "output_type": "stream",
     "text": [
      "Which course do you want to grade:  cs\n"
     ]
    },
    {
     "name": "stdout",
     "output_type": "stream",
     "text": [
      "\n",
      "\n",
      "Check the name of lesson please.\n"
     ]
    },
    {
     "name": "stdin",
     "output_type": "stream",
     "text": [
      "Which course do you want to grade:  python\n"
     ]
    },
    {
     "name": "stdout",
     "output_type": "stream",
     "text": [
      "\n",
      "\n"
     ]
    },
    {
     "name": "stdin",
     "output_type": "stream",
     "text": [
      "Grade of midterm:  88\n",
      "Grade of final:  92\n",
      "Grade of project:  90\n"
     ]
    },
    {
     "name": "stdout",
     "output_type": "stream",
     "text": [
      "\n",
      "Grades of Python: Midterm: 88, Final: 92, Project: 90\n",
      "\n",
      "Your score: 90.4(AA), Congratulations, You are great.\n"
     ]
    }
   ],
   "source": [
    "def funcAllLessons():\n",
    "    \n",
    "    allLessons = list()\n",
    "    \n",
    "    print(\"----->  The names must be entered in lower case  <-----\\n\")\n",
    "    print(\"Enter 5 lesson name: \")\n",
    "    \n",
    "    for i in range(5):\n",
    "        lesson = str(input(\"{}.Course\".format(i+1)))\n",
    "        allLessons.append(lesson)\n",
    "    \n",
    "    print(\"Lessons: {}\\n\".format(allLessons))\n",
    "    \n",
    "    print(\"Courses you want to take : (Press 'q' for save)\")\n",
    "    print(\"----->  Remember that you must be entered min 3 - max 5 courses   <-----\\n\")\n",
    "    \n",
    "    return allLessons\n",
    "\n",
    "\n",
    "\n",
    "\n",
    "\n",
    "def funcCheck(allLessons):\n",
    "    \n",
    "    takenLessons = list()\n",
    "    \n",
    "    while True:\n",
    "        takenCourse = str(input(\"Lesson Name: \"))\n",
    "        if (takenCourse == 'q' and len(takenLessons)<3):\n",
    "            print(\"You failed in class\")\n",
    "            break\n",
    "        elif ((takenCourse == 'q') and (3<=len(takenLessons)<5)):\n",
    "            print(\"All registered courses: {}, (Press 'q' for save)\\n\".format(takenLessons))\n",
    "            _m, _f, _p = funcGrades(takenLessons)\n",
    "            funcScore(_m, _f, _p)\n",
    "            break\n",
    "        elif(takenCourse not in allLessons):\n",
    "            print(\"You entered wrong name!\")\n",
    "            print(\"All registered courses: {}, (Press 'q' for save)\\n\".format(takenLessons))\n",
    "            continue\n",
    "        else:\n",
    "            takenLessons.append(takenCourse)\n",
    "            print(\"All registered courses: {}, (Press 'q' for save)\\n\".format(takenLessons))\n",
    "            if (len(takenLessons)==5):\n",
    "                _m, _f, _p = funcGrades(takenLessons)\n",
    "                funcScore(_m, _f, _p)\n",
    "                break\n",
    "\n",
    "                \n",
    "                \n",
    "                \n",
    "                \n",
    "def funcGrades(takenLessons):\n",
    "    \n",
    "    grades = {\"midterm\":0, \"final\":0, \"project\":0}\n",
    "    \n",
    "    while True:\n",
    "        choosenLesson = str(input((\"Which course do you want to grade: \")))\n",
    "        print(\"\\n\")\n",
    "        if (choosenLesson in takenLessons):\n",
    "            midterm = int(input(\"Grade of midterm: \"))\n",
    "            grades[\"midterm\"] = midterm\n",
    "            final = int(input(\"Grade of final: \"))\n",
    "            grades[\"final\"] = final\n",
    "            project = int(input(\"Grade of project: \"))\n",
    "            grades[\"project\"] = project\n",
    "            print(\"\\nGrades of {}: Midterm: {}, Final: {}, Project: {}\\n\".format(choosenLesson.capitalize(),midterm,final,project))\n",
    "            break\n",
    "        else:\n",
    "            print(\"Check the name of lesson please.\")\n",
    "            \n",
    "    return midterm, final, project\n",
    "\n",
    "\n",
    "\n",
    "\n",
    "\n",
    "def funcScore(midterm,final,project):\n",
    "    \n",
    "    score = float(format((midterm * 0.3 + final * 0.5 + project * 0.2), \".1f\"))\n",
    "\n",
    "    if (score < 30):\n",
    "        print(\"Your score: {}(FF) and You failed.\".format(score))\n",
    "    elif (score < 50):\n",
    "        print(\"Your score: {}(DD), You are not bad.\".format(score))\n",
    "    elif (score < 70):\n",
    "        print(\"Your score: {}(CC), You are good.\".format(score))\n",
    "    elif (score < 90):\n",
    "        print(\"Your score: {}(BB), You are very good.\".format(score))\n",
    "    else:\n",
    "        print(\"Your score: {}(AA), Congratulations, You are great.\".format(score))\n",
    "\n",
    "        \n",
    "        \n",
    "        \n",
    "        \n",
    "name, surname = \"hakan\", \"gokcen\"\n",
    "flag = False\n",
    "\n",
    "for i in range(3):\n",
    "    _name = str(input(\"Please enter your name: \"))\n",
    "    _surname = str(input(\"Please enter your surname: \"))\n",
    "    print(\"\\n\")\n",
    "    \n",
    "    if ( name == _name and surname == _surname):\n",
    "        print(\"Welcome...\\n\")\n",
    "        flag = True\n",
    "        _allLessons = funcAllLessons()\n",
    "        funcCheck(_allLessons)\n",
    "        break\n",
    "\n",
    "if (flag == False):\n",
    "    print(\"Please try again later\")"
   ]
  },
  {
   "cell_type": "code",
   "execution_count": null,
   "metadata": {},
   "outputs": [],
   "source": []
  }
 ],
 "metadata": {
  "kernelspec": {
   "display_name": "Python 3",
   "language": "python",
   "name": "python3"
  },
  "language_info": {
   "codemirror_mode": {
    "name": "ipython",
    "version": 3
   },
   "file_extension": ".py",
   "mimetype": "text/x-python",
   "name": "python",
   "nbconvert_exporter": "python",
   "pygments_lexer": "ipython3",
   "version": "3.9.0"
  }
 },
 "nbformat": 4,
 "nbformat_minor": 4
}
