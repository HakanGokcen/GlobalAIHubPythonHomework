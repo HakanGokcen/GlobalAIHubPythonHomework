{
 "cells": [
  {
   "cell_type": "code",
   "execution_count": null,
   "metadata": {},
   "outputs": [],
   "source": [
    "#Global AI Hub - Introduction to Python\n",
    "#Homework 2"
   ]
  },
  {
   "cell_type": "code",
   "execution_count": 1,
   "metadata": {},
   "outputs": [
    {
     "name": "stdout",
     "output_type": "stream",
     "text": [
      "Please enter your personal information: \n"
     ]
    },
    {
     "name": "stdin",
     "output_type": "stream",
     "text": [
      "First Name:  Hakan\n",
      "Last Name:  Gokcen\n",
      "Age:  28\n",
      "Date of Birth(just year):  1992\n"
     ]
    },
    {
     "name": "stdout",
     "output_type": "stream",
     "text": [
      "\n",
      "Your personal information is: \n",
      "Hakan\n",
      "Gokcen\n",
      "28\n",
      "1992\n",
      "\n",
      "You can go out to the street\n"
     ]
    }
   ],
   "source": [
    "listPerInfo = list()\n",
    "\n",
    "print(\"Please enter your personal information: \")\n",
    "firstName = str(input(\"First Name: \"))\n",
    "lastName = str(input(\"Last Name: \"))\n",
    "age = int(input(\"Age: \"))\n",
    "dateOfBirth = int(input(\"Date of Birth(just year): \"))\n",
    "\n",
    "listPerInfo.append(firstName)\n",
    "listPerInfo.append(lastName)\n",
    "listPerInfo.append(age)\n",
    "listPerInfo.append(dateOfBirth)\n",
    "\n",
    "print(\"\\nYour personal information is: \")\n",
    "for i in range(len(listPerInfo)):\n",
    "    print(listPerInfo[i])\n",
    "\n",
    "if(age<18):\n",
    "    print(\"\\nYou can't go out because it's too dangerous.\")\n",
    "if(age>18):\n",
    "    print(\"\\nYou can go out to the street\")"
   ]
  }
 ],
 "metadata": {
  "kernelspec": {
   "display_name": "Python 3",
   "language": "python",
   "name": "python3"
  },
  "language_info": {
   "codemirror_mode": {
    "name": "ipython",
    "version": 3
   },
   "file_extension": ".py",
   "mimetype": "text/x-python",
   "name": "python",
   "nbconvert_exporter": "python",
   "pygments_lexer": "ipython3",
   "version": "3.9.0"
  }
 },
 "nbformat": 4,
 "nbformat_minor": 4
}
