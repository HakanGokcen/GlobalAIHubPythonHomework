{
 "cells": [
  {
   "cell_type": "code",
   "execution_count": 17,
   "metadata": {},
   "outputs": [],
   "source": [
    "#Global AI Hub - Introduction to Python\n",
    "#Homework 1"
   ]
  },
  {
   "cell_type": "code",
   "execution_count": 1,
   "metadata": {},
   "outputs": [
    {
     "name": "stdin",
     "output_type": "stream",
     "text": [
      "Please enter first value:  22\n",
      "Please enter second value:  h\n",
      "Please enter thirt value:  3.37\n",
      "Please enter fourth value:  1\n",
      "Please enter fifth value:  tel\n"
     ]
    },
    {
     "name": "stdout",
     "output_type": "stream",
     "text": [
      "\n",
      "The first three values entered: 22 h 3.37\n",
      "and others: 1 tel\n",
      "\n",
      "First value: 22, Type: <class 'str'>\n",
      "First value: h, Type: <class 'str'>\n",
      "First value: 3.37, Type: <class 'str'>\n",
      "First value: 1, Type: <class 'str'>\n",
      "First value: tel, Type: <class 'str'>\n"
     ]
    }
   ],
   "source": [
    "v1 = input(\"Please enter first value: \")\n",
    "v2 = input(\"Please enter second value: \")\n",
    "v3 = input(\"Please enter thirt value: \")\n",
    "v4 = input(\"Please enter fourth value: \")\n",
    "v5 = input(\"Please enter fifth value: \")\n",
    "\n",
    "print(\"\\nThe first three values entered: {} {} {}\".format(v1,v2,v3))\n",
    "print(f'and others: {v4} {v5}\\n')\n",
    "\n",
    "print(\"First value: {}, Type: {}\".format(v1, type(v1)))\n",
    "print(\"First value: {}, Type: {}\".format(v2, type(v2)))\n",
    "print(\"First value: {}, Type: {}\".format(v3, type(v3)))\n",
    "print(\"First value: {}, Type: {}\".format(v4, type(v4)))\n",
    "print(\"First value: {}, Type: {}\".format(v5, type(v5)))\n"
   ]
  },
  {
   "cell_type": "code",
   "execution_count": null,
   "metadata": {},
   "outputs": [],
   "source": []
  }
 ],
 "metadata": {
  "kernelspec": {
   "display_name": "Python 3",
   "language": "python",
   "name": "python3"
  },
  "language_info": {
   "codemirror_mode": {
    "name": "ipython",
    "version": 3
   },
   "file_extension": ".py",
   "mimetype": "text/x-python",
   "name": "python",
   "nbconvert_exporter": "python",
   "pygments_lexer": "ipython3",
   "version": "3.9.0"
  }
 },
 "nbformat": 4,
 "nbformat_minor": 4
}
