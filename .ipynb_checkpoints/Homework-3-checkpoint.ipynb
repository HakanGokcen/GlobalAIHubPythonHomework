{
 "cells": [
  {
   "cell_type": "code",
   "execution_count": null,
   "metadata": {},
   "outputs": [],
   "source": [
    "#Global AI Hub - Introduction to Python\n",
    "#Homework 3"
   ]
  },
  {
   "cell_type": "code",
   "execution_count": 1,
   "metadata": {},
   "outputs": [
    {
     "name": "stdout",
     "output_type": "stream",
     "text": [
      "Welcome Learner\n",
      "It's an animal's name guessing game.\n",
      "\n",
      "We have an animal with 8 letters,\n",
      "It has: 0 arm, 4 feet, 0 horn, 0 wing and 1 tail\n",
      "name starts with E, ends with T and KEYWORD: Big\n",
      "\n",
      "Remember that you have only 5 GUESS !!!\n",
      "\n",
      "The word must be entered in lower case\n",
      "\n"
     ]
    },
    {
     "name": "stdin",
     "output_type": "stream",
     "text": [
      "Enter your 1. guess:  a\n",
      "Enter your 2. guess:  b\n",
      "Enter your 3. guess:  c\n",
      "Enter your 4. guess:  elephant\n"
     ]
    },
    {
     "name": "stdout",
     "output_type": "stream",
     "text": [
      "Congratulation ! Your guess is correct :)\n"
     ]
    }
   ],
   "source": [
    "import random\n",
    "\n",
    "userName = \"Learner\"\n",
    "print (\"Welcome {}\".format(userName))\n",
    "\n",
    "# animalName: [Count of Arm, Count of Feet, Count of Horn, Count of Wing, Count of Tail, Key Word]\n",
    "animalsNameDict = {\"monkey\":[2,2,0,0,1,\"Darwin\"],\n",
    "                  \"horse\":[0,4,0,0,1,\"Noble\"],\n",
    "                  \"chicken\":[0,2,0,2,1,\"Egg\"],\n",
    "                  \"elephant\":[0,4,0,0,1,\"Big\"],\n",
    "                  \"lion\":[0,4,0,0,1,\"Forest\"],\n",
    "                  \"panda\":[2,2,0,0,1,\":)\"]}\n",
    "animalName, others  = random.choice(list(animalsNameDict.items()))\n",
    "\n",
    "animalFirstLetter = animalName[0].upper()\n",
    "animalLastLetter = animalName[len(animalName)-1].upper()\n",
    "\n",
    "print(\"It's an animal's name guessing game.\\n\\nWe have an animal with {} letters,\"\n",
    "     \"\\nIt has: {} arm, {} feet, {} horn, {} wing and {} tail\".format((len(animalName)),others[0],others[1],others[2],others[3],others[4]))\n",
    "print(\"name starts with {}, ends with {} and KEYWORD: {}\".format(animalFirstLetter,animalLastLetter,others[5]))\n",
    "print(\"\\nRemember that you have only 5 GUESS !!!\\n\")\n",
    "\n",
    "value = 0\n",
    "print(\"The word must be entered in lower case\\n\")\n",
    "while(value < 5):\n",
    "    guess = str(input(\"Enter your {}. guess: \".format(value+1)))\n",
    "    if (guess == animalName):\n",
    "        print(\"Congratulation ! Your guess is correct :)\")\n",
    "        break\n",
    "    else:\n",
    "        value = value + 1\n",
    "if(value == 5):\n",
    "    print(\"You were wrong\")"
   ]
  },
  {
   "cell_type": "code",
   "execution_count": null,
   "metadata": {},
   "outputs": [],
   "source": []
  }
 ],
 "metadata": {
  "kernelspec": {
   "display_name": "Python 3",
   "language": "python",
   "name": "python3"
  },
  "language_info": {
   "codemirror_mode": {
    "name": "ipython",
    "version": 3
   },
   "file_extension": ".py",
   "mimetype": "text/x-python",
   "name": "python",
   "nbconvert_exporter": "python",
   "pygments_lexer": "ipython3",
   "version": "3.9.0"
  }
 },
 "nbformat": 4,
 "nbformat_minor": 4
}
